{
 "cells": [
  {
   "cell_type": "code",
   "execution_count": 2,
   "metadata": {},
   "outputs": [],
   "source": [
    "from openai import OpenAI\n",
    "client = OpenAI()\n",
    "\n",
    "# assistant = client.beta.assistants.create(\n",
    "#   name=\"Tutor\",\n",
    "#   instructions=\"You are a personal tutor. Teach the user on the given topic and if files are provided then use them and then teach or answer the question.\",\n",
    "#   tools=[{\"type\": \"file_search\"}],\n",
    "#   model=\"gpt-4o\",\n",
    "# )\n",
    "# assistant.to_dict()"
   ]
  },
  {
   "cell_type": "code",
   "execution_count": 10,
   "metadata": {},
   "outputs": [
    {
     "data": {
      "text/plain": [
       "[FileObject(id='file-2tCLC6uS9nJVoDLPdwhv4o', bytes=18134359, created_at=1739102176, filename='The Deck.pdf', object='file', purpose='assistants', status='processed', status_details=None),\n",
       " FileObject(id='file-6GBtLz5g8gcwkVZ3gSWhWy', bytes=30377, created_at=1739102169, filename='capacity-retrieval-agent (2).html', object='file', purpose='assistants', status='processed', status_details=None)]"
      ]
     },
     "execution_count": 10,
     "metadata": {},
     "output_type": "execute_result"
    }
   ],
   "source": [
    "files = client.files.list()\n",
    "files.data"
   ]
  },
  {
   "cell_type": "code",
   "execution_count": 7,
   "metadata": {},
   "outputs": [],
   "source": [
    "for i in files.data:\n",
    "    if i.id == '':\n",
    "        pass\n",
    "    else:\n",
    "        client.files.delete(i.id)"
   ]
  },
  {
   "cell_type": "code",
   "execution_count": 2,
   "metadata": {},
   "outputs": [],
   "source": [
    "thread = client.beta.threads.create()"
   ]
  },
  {
   "cell_type": "code",
   "execution_count": 3,
   "metadata": {},
   "outputs": [],
   "source": [
    "message = client.beta.threads.messages.create(\n",
    "  thread_id=thread.id,\n",
    "  role=\"user\",\n",
    "  content=\"I need to solve the equation `3x + 11 = 14`. Can you help me?\"\n",
    ")"
   ]
  },
  {
   "cell_type": "code",
   "execution_count": 4,
   "metadata": {},
   "outputs": [
    {
     "name": "stdout",
     "output_type": "stream",
     "text": [
      "\n",
      "assistant > Of course, Jane Doe! To solve the equation \\(3x + 11 = 14\\), we need to isolate \\(x\\). Let's do it step by step:\n",
      "\n",
      "1. Subtract 11 from both sides of the equation:\n",
      "   \\[\n",
      "   3x + 11 - 11 = 14 - 11\n",
      "   \\]\n",
      "   \\[\n",
      "   3x = 3\n",
      "   \\]\n",
      "   \n",
      "2. Divide both sides by 3:\n",
      "   \\[\n",
      "   x = \\frac{3}{3} = 1\n",
      "   \\]\n",
      "\n",
      "Thus, the solution to the equation is \\(x = 1\\)."
     ]
    }
   ],
   "source": [
    "from typing_extensions import override\n",
    "from openai import AssistantEventHandler\n",
    " \n",
    "# First, we create a EventHandler class to define\n",
    "# how we want to handle the events in the response stream.\n",
    " \n",
    "class EventHandler(AssistantEventHandler):    \n",
    "  @override\n",
    "  def on_text_created(self, text) -> None:\n",
    "    print(f\"\\nassistant > \", end=\"\", flush=True)\n",
    "      \n",
    "  @override\n",
    "  def on_text_delta(self, delta, snapshot):\n",
    "    print(delta.value, end=\"\", flush=True)\n",
    "      \n",
    "  def on_tool_call_created(self, tool_call):\n",
    "    print(f\"\\nassistant > {tool_call.type}\\n\", flush=True)\n",
    "  \n",
    "  def on_tool_call_delta(self, delta, snapshot):\n",
    "    if delta.type == 'code_interpreter':\n",
    "      if delta.code_interpreter.input:\n",
    "        print(delta.code_interpreter.input, end=\"\", flush=True)\n",
    "      if delta.code_interpreter.outputs:\n",
    "        print(f\"\\n\\noutput >\", flush=True)\n",
    "        for output in delta.code_interpreter.outputs:\n",
    "          if output.type == \"logs\":\n",
    "            print(f\"\\n{output.logs}\", flush=True)\n",
    " \n",
    "# Then, we use the `stream` SDK helper \n",
    "# with the `EventHandler` class to create the Run \n",
    "# and stream the response.\n",
    " \n",
    "with client.beta.threads.runs.stream(\n",
    "  thread_id=thread.id,\n",
    "  assistant_id=assistant.id,\n",
    "  instructions=\"Please address the user as Jane Doe. The user has a premium account.\",\n",
    "  event_handler=EventHandler(),\n",
    ") as stream:\n",
    "  stream.until_done()"
   ]
  },
  {
   "cell_type": "markdown",
   "metadata": {},
   "source": [
    "# Deep Dive"
   ]
  },
  {
   "cell_type": "code",
   "execution_count": 6,
   "metadata": {},
   "outputs": [],
   "source": [
    "file = client.files.create(\n",
    "  file=open(\"/home/ub-karar/Downloads/Revenue_Forecast.csv\", \"rb\"),\n",
    "  purpose='assistants'\n",
    ")"
   ]
  },
  {
   "cell_type": "code",
   "execution_count": 9,
   "metadata": {},
   "outputs": [
    {
     "data": {
      "text/plain": [
       "{'id': 'file-QW3kZpBkcUx13ChdymxrNa',\n",
       " 'bytes': 2046,\n",
       " 'created_at': 1738930331,\n",
       " 'filename': 'Revenue_Forecast.csv',\n",
       " 'object': 'file',\n",
       " 'purpose': 'assistants',\n",
       " 'status': 'processed',\n",
       " 'status_details': None}"
      ]
     },
     "execution_count": 9,
     "metadata": {},
     "output_type": "execute_result"
    }
   ],
   "source": [
    "file.to_dict()"
   ]
  },
  {
   "cell_type": "code",
   "execution_count": 10,
   "metadata": {},
   "outputs": [],
   "source": [
    "assistant = client.beta.assistants.create(\n",
    "  name=\"Data visualizer\",\n",
    "  description=\"You are great at creating beautiful data visualizations. You analyze data present in .csv files, understand trends, and come up with data visualizations relevant to those trends. You also share a brief text summary of the trends observed.\",\n",
    "  model=\"gpt-4o\",\n",
    "  tools=[{\"type\": \"code_interpreter\"}],\n",
    "  tool_resources={\n",
    "    \"code_interpreter\": {\n",
    "      \"file_ids\": [file.id]\n",
    "    }\n",
    "  }\n",
    ")"
   ]
  },
  {
   "cell_type": "code",
   "execution_count": 12,
   "metadata": {},
   "outputs": [],
   "source": [
    "thread = client.beta.threads.create(\n",
    "  messages=[\n",
    "    {\n",
    "      \"role\": \"user\",\n",
    "      \"content\": \"Create 3 data visualizations based on the trends in this file.\",\n",
    "      \"attachments\": [\n",
    "        {\n",
    "          \"file_id\": file.id,\n",
    "          \"tools\": [{\"type\": \"code_interpreter\"}]\n",
    "        }\n",
    "      ]\n",
    "    }\n",
    "  ]\n",
    ")"
   ]
  },
  {
   "cell_type": "code",
   "execution_count": 13,
   "metadata": {},
   "outputs": [
    {
     "name": "stdout",
     "output_type": "stream",
     "text": [
      "\n",
      "assistant > Sure, Jane Doe. I'll start by examining the contents of the uploaded file to understand the data. Then, I'll create three visualizations based on trends within the data. Let's begin by loading and exploring the file.\n",
      "assistant > code_interpreter\n",
      "\n",
      "import pandas as pd\n",
      "\n",
      "# Load the uploaded file to examine its contents\n",
      "file_path = '/mnt/data/file-QW3kZpBkcUx13ChdymxrNa'\n",
      "data = pd.read_csv(file_path)\n",
      "\n",
      "# Display the first few rows of the dataframe and its structure\n",
      "data.head(), data.info()\n",
      "\n",
      "output >\n",
      "\n",
      "<class 'pandas.core.frame.DataFrame'>\n",
      "RangeIndex: 32 entries, 0 to 31\n",
      "Data columns (total 6 columns):\n",
      " #   Column            Non-Null Count  Dtype  \n",
      "---  ------            --------------  -----  \n",
      " 0   Fiscal_Year       32 non-null     object \n",
      " 1   Fiscal_Year_End   32 non-null     int64  \n",
      " 2   Revenue_Type      32 non-null     object \n",
      " 3   Variance_Percent  32 non-null     float64\n",
      " 4   Date              32 non-null     object \n",
      " 5   ObjectId          32 non-null     int64  \n",
      "dtypes: float64(1), int64(2), object(3)\n",
      "memory usage: 1.6+ KB\n",
      "\n",
      "\n",
      "assistant > The dataset contains the following columns:\n",
      "\n",
      "- **Fiscal_Year**: The fiscal year of the data.\n",
      "- **Fiscal_Year_End**: The ending year of the fiscal period.\n",
      "- **Revenue_Type**: Type of revenue.\n",
      "- **Variance_Percent**: The percentage variance in the revenue.\n",
      "- **Date**: Date associated with the record.\n",
      "- **ObjectId**: An identifier for the record.\n",
      "\n",
      "With this structure in mind, I will create three data visualizations:\n",
      "1. A time series plot showing the trend of `Variance_Percent` over time.\n",
      "2. A bar plot illustrating the average `Variance_Percent` for each `Revenue_Type`.\n",
      "3. A heatmap to visualize the correlation between the dataset's numeric features.\n",
      "\n",
      "Let's start by creating these visualizations.import matplotlib.pyplot as plt\n",
      "import seaborn as sns\n",
      "\n",
      "# Convert the 'Date' column to datetime to ensure correct plotting on the x-axis\n",
      "data['Date'] = pd.to_datetime(data['Date'])\n",
      "\n",
      "# Create the first visualization: A time series plot showing Variance_Percent over time\n",
      "plt.figure(figsize=(10, 6))\n",
      "sns.lineplot(data=data, x='Date', y='Variance_Percent', hue='Revenue_Type', marker='o')\n",
      "plt.title('Variance Percent Over Time by Revenue Type')\n",
      "plt.xlabel('Date')\n",
      "plt.ylabel('Variance Percent')\n",
      "plt.legend(title='Revenue Type')\n",
      "plt.xticks(rotation=45)\n",
      "plt.tight_layout()\n",
      "plt.show()\n",
      "\n",
      "output >\n",
      "\n",
      "assistant > Here's the first visualization, Jane Doe: a line plot showing the trend of `Variance_Percent` over time, distinguished by `Revenue_Type`. You can observe how the variance changes for each revenue type across the fiscal years.\n",
      "\n",
      "Next, I'll create a bar plot illustrating the average `Variance_Percent` for each `Revenue_Type`.# Calculate the average variance percent per revenue type\n",
      "average_variance = data.groupby('Revenue_Type')['Variance_Percent'].mean().reset_index()\n",
      "\n",
      "# Create the second visualization: A bar plot of the average Variance_Percent for each Revenue_Type\n",
      "plt.figure(figsize=(8, 5))\n",
      "sns.barplot(data=average_variance, x='Revenue_Type', y='Variance_Percent', palette='viridis')\n",
      "plt.title('Average Variance Percent by Revenue Type')\n",
      "plt.xlabel('Revenue Type')\n",
      "plt.ylabel('Average Variance Percent')\n",
      "plt.tight_layout()\n",
      "plt.show()\n",
      "\n",
      "output >\n",
      "\n",
      "assistant > Here's the second visualization: a bar plot displaying the average `Variance_Percent` for each `Revenue_Type`. It shows that \"Local Taxes\" tend to have a higher average variance compared to \"Intergovernmental\".\n",
      "\n",
      "Now, let's create a heatmap to visualize correlations between the numeric features in the dataset.# Create the third visualization: A heatmap of the correlations between numeric features\n",
      "plt.figure(figsize=(6, 4))\n",
      "correlation_matrix = data.corr()\n",
      "sns.heatmap(correlation_matrix, annot=True, cmap='coolwarm', fmt=\".2f\")\n",
      "plt.title('Correlation Heatmap of Numeric Features')\n",
      "plt.tight_layout()\n",
      "plt.show()\n",
      "\n",
      "output >\n",
      "\n",
      "/tmp/ipykernel_12/1334659310.py:3: FutureWarning: The default value of numeric_only in DataFrame.corr is deprecated. In a future version, it will default to False. Select only valid columns or specify the value of numeric_only to silence this warning.\n",
      "  correlation_matrix = data.corr()\n",
      "\n",
      "\n",
      "\n",
      "output >\n",
      "\n",
      "assistant > Here is the third visualization: a heatmap showing the correlation between numeric features in the dataset. This gives you insight into the relationships between `Fiscal_Year_End`, `Variance_Percent`, and `ObjectId`. Since `ObjectId` is an identifier, it doesn't necessarily have meaningful correlations.\n",
      "\n",
      "Feel free to ask if you have any further questions or need additional analysis, Jane Doe!"
     ]
    }
   ],
   "source": [
    "with client.beta.threads.runs.stream(\n",
    "  thread_id=thread.id,\n",
    "  assistant_id=assistant.id,\n",
    "  instructions=\"Please address the user as Jane Doe. The user has a premium account.\",\n",
    "  event_handler=EventHandler(),\n",
    ") as stream:\n",
    "  stream.until_done()"
   ]
  },
  {
   "cell_type": "markdown",
   "metadata": {},
   "source": [
    "---\n",
    "\n",
    "- We only need file upload - no vectorDB is required\n",
    "- Add attachments id in assistent message\n",
    "\n",
    "---"
   ]
  },
  {
   "cell_type": "code",
   "execution_count": 15,
   "metadata": {},
   "outputs": [
    {
     "name": "stdout",
     "output_type": "stream",
     "text": [
      "[Assistant(id='asst_ksR01Wxi2WSpZ7GPHcefjMD7', created_at=1739102700, description=None, instructions='You are a personal tutor. Teach the user on the given topic and if files are provided then use them and then teach or answer the question.', metadata={}, model='gpt-4o', name='Tutor', object='assistant', tools=[FileSearchTool(type='file_search', file_search=FileSearch(max_num_results=None, ranking_options=FileSearchRankingOptions(score_threshold=0.0, ranker='default_2024_08_21')))], response_format='auto', temperature=1.0, tool_resources=ToolResources(code_interpreter=None, file_search=ToolResourcesFileSearch(vector_store_ids=[])), top_p=1.0, reasoning_effort=None)]\n"
     ]
    },
    {
     "data": {
      "text/plain": [
       "1"
      ]
     },
     "execution_count": 15,
     "metadata": {},
     "output_type": "execute_result"
    }
   ],
   "source": [
    "from openai import OpenAI\n",
    "client = OpenAI()\n",
    "\n",
    "my_assistants = client.beta.assistants.list(\n",
    "    order=\"desc\",\n",
    "    limit=\"20\",\n",
    ")\n",
    "print(my_assistants.data)\n",
    "len(my_assistants.data)"
   ]
  },
  {
   "cell_type": "code",
   "execution_count": 12,
   "metadata": {},
   "outputs": [
    {
     "name": "stdout",
     "output_type": "stream",
     "text": [
      "asst_hWe5V6f3MYQcsghg9xuHFqCI\n"
     ]
    }
   ],
   "source": [
    "for i in my_assistants.data:\n",
    "    print(i.id)\n",
    "    client.beta.assistants.delete(i.id)\n"
   ]
  },
  {
   "cell_type": "code",
   "execution_count": 1,
   "metadata": {},
   "outputs": [
    {
     "name": "stdout",
     "output_type": "stream",
     "text": [
      "Message(id='msg_QNii1Bj79TD2UXVFjEAZF66i', assistant_id=None, attachments=[], completed_at=None, content=[TextContentBlock(text=Text(annotations=[], value='please agin tell the summar of the file.'), type='text')], created_at=1739134872, incomplete_at=None, incomplete_details=None, metadata={}, object='thread.message', role='user', run_id=None, status=None, thread_id='thread_Mijyb8qS2J6J9m9UbqKeePAU')\n"
     ]
    }
   ],
   "source": [
    "from openai import OpenAI\n",
    "client = OpenAI()\n",
    "\n",
    "thread_message = client.beta.threads.messages.create(\n",
    "  \"thread_Mijyb8qS2J6J9m9UbqKeePAU\",\n",
    "  role=\"user\",\n",
    "  content=\"please agin tell the summar of the file.\",\n",
    ")\n",
    "print(thread_message)\n"
   ]
  },
  {
   "cell_type": "code",
   "execution_count": 2,
   "metadata": {},
   "outputs": [
    {
     "name": "stdout",
     "output_type": "stream",
     "text": [
      "Run(id='run_GFGnIVIf5dtPFDNoeWq6VukW', assistant_id='asst_ksR01Wxi2WSpZ7GPHcefjMD7', cancelled_at=None, completed_at=None, created_at=1739135004, expires_at=1739135604, failed_at=None, incomplete_details=None, instructions='You are a personal tutor. Teach the user on the given topic and if files are provided then use them and then teach or answer the question.', last_error=None, max_completion_tokens=None, max_prompt_tokens=None, metadata={}, model='gpt-4o', object='thread.run', parallel_tool_calls=True, required_action=None, response_format='auto', started_at=None, status='queued', thread_id='thread_Mijyb8qS2J6J9m9UbqKeePAU', tool_choice='auto', tools=[FileSearchTool(type='file_search', file_search=FileSearch(max_num_results=None, ranking_options=FileSearchRankingOptions(score_threshold=0.0, ranker='default_2024_08_21')))], truncation_strategy=TruncationStrategy(type='auto', last_messages=None), usage=None, temperature=1.0, top_p=1.0, tool_resources={}, reasoning_effort=None)\n"
     ]
    }
   ],
   "source": [
    "run = client.beta.threads.runs.create(\n",
    "  thread_id=\"thread_Mijyb8qS2J6J9m9UbqKeePAU\",\n",
    "  assistant_id=\"asst_ksR01Wxi2WSpZ7GPHcefjMD7\"\n",
    ")\n",
    "\n",
    "print(run)"
   ]
  },
  {
   "cell_type": "code",
   "execution_count": 11,
   "metadata": {},
   "outputs": [
    {
     "name": "stdout",
     "output_type": "stream",
     "text": [
      "1\n",
      "user [TextContentBlock(text=Text(annotations=[], value='summrize this file'), type='text')]\n"
     ]
    }
   ],
   "source": [
    "thread_messages = client.beta.threads.messages.list(\"thread_ZvewSKOMBjP8GBAMm6wu5df7\")\n",
    "print(len(thread_messages.data))\n",
    "for i in thread_messages.data:\n",
    "    print(i.role, i.content)"
   ]
  }
 ],
 "metadata": {
  "kernelspec": {
   "display_name": "base",
   "language": "python",
   "name": "python3"
  },
  "language_info": {
   "codemirror_mode": {
    "name": "ipython",
    "version": 3
   },
   "file_extension": ".py",
   "mimetype": "text/x-python",
   "name": "python",
   "nbconvert_exporter": "python",
   "pygments_lexer": "ipython3",
   "version": "3.12.4"
  }
 },
 "nbformat": 4,
 "nbformat_minor": 2
}
